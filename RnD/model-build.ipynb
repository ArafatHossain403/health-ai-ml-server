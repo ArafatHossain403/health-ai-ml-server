{
 "cells": [
  {
   "cell_type": "code",
   "execution_count": 1,
   "id": "f11e0400",
   "metadata": {},
   "outputs": [],
   "source": [
    "import pandas as pd \n",
    "daibetes = pd.read_csv(\"diabetes.csv\")"
   ]
  },
  {
   "cell_type": "code",
   "execution_count": null,
   "id": "d14300b3",
   "metadata": {},
   "outputs": [],
   "source": [
    "train_X = daibetes[['Pregnancies','Glucose','BloodPressure','SkinThickness', 'Insulin', 'BMI', 'DiabetesPedigreeFunction', 'Age']]# taking the training data features\n",
    "train_y=daibetes.Outcome"
   ]
  },
  {
   "cell_type": "code",
   "execution_count": null,
   "id": "d0389e53",
   "metadata": {},
   "outputs": [],
   "source": [
    "from sklearn.linear_model import LogisticRegression\n",
    "model = LogisticRegression(random_state=0, max_iter=1000)\n",
    "model.fit(train_X,train_y)"
   ]
  },
  {
   "cell_type": "code",
   "execution_count": null,
   "id": "e2930196",
   "metadata": {},
   "outputs": [],
   "source": [
    "import pickle\n",
    "pickle.dump(model, open(\"../web-server/diabetes-model.pkl\", 'wb'))"
   ]
  }
 ],
 "metadata": {
  "kernelspec": {
   "display_name": "Python 3",
   "language": "python",
   "name": "python3"
  },
  "language_info": {
   "codemirror_mode": {
    "name": "ipython",
    "version": 3
   },
   "file_extension": ".py",
   "mimetype": "text/x-python",
   "name": "python",
   "nbconvert_exporter": "python",
   "pygments_lexer": "ipython3",
   "version": "3.8.10"
  }
 },
 "nbformat": 4,
 "nbformat_minor": 5
}
